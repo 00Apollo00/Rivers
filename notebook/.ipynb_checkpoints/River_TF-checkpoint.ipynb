{
 "cells": [
  {
   "cell_type": "code",
   "execution_count": 1,
   "id": "5c4c084b",
   "metadata": {},
   "outputs": [],
   "source": [
    "import pandas as pd\n",
    "import numpy as np\n",
    "import matplotlib.pyplot as plt\n",
    "%matplotlib inline\n",
    "import seaborn as sns\n",
    "import datetime\n",
    "sns.set() # устанавливаем seaborn как по-умолчанию для отрисовки графиков\n",
    "\n",
    "import tensorflow as tf\n",
    "from tensorflow import keras\n",
    "from tensorflow.keras import layers\n",
    "\n",
    "from sklearn.model_selection import train_test_split\n",
    "from sklearn.preprocessing import StandardScaler,MinMaxScaler"
   ]
  },
  {
   "cell_type": "code",
   "execution_count": 2,
   "id": "bf4a5699",
   "metadata": {},
   "outputs": [],
   "source": [
    "X = pd.read_csv('../Data/new_date_riverV1.csv',parse_dates=[\"date\"])\n",
    "X = X.drop(['Unnamed: 0'],axis=1)"
   ]
  },
  {
   "cell_type": "code",
   "execution_count": 3,
   "id": "ff0b5b3d",
   "metadata": {},
   "outputs": [],
   "source": [
    "X = X.drop(['w_forecast_d2','w_forecast_d3','w_forecast_d4','w_forecast_d5',\n",
    "           'w_forecast_d6','w_forecast_d7','w_forecast_d8','w_forecast_d9',\n",
    "            'w_forecast_d10','w_forecast_d11','w_forecast_d12','w_forecast_d13','w_forecast_d14', \n",
    "            'pasday1',\n",
    "           ], axis=1)\n"
   ]
  },
  {
   "cell_type": "code",
   "execution_count": 4,
   "id": "2475150f",
   "metadata": {},
   "outputs": [],
   "source": [
    "test_general = X[(X['date']>= '2018-01-01') & (X['date']<= '2021-12-31')] #выборка для ручного теста\n",
    "X = X.drop(X[(X['date']>= '2018-01-01') & (X['date']<= '2021-12-31')].index) #убираем выборку из обучающего сета"
   ]
  },
  {
   "cell_type": "code",
   "execution_count": 5,
   "id": "fe7579e2",
   "metadata": {},
   "outputs": [
    {
     "name": "stdout",
     "output_type": "stream",
     "text": [
      "1084\n",
      "3998\n"
     ]
    }
   ],
   "source": [
    "#размножаем признаки post_9487 которых больше 200\n",
    "v =  X.loc[X[X['post_9387']>=200].index.repeat(1)].reset_index(drop=True)\n",
    "X = pd.concat([X,v], ignore_index=True)\n",
    "#размножаем признаки post_9487 которых больше 70 но меньше 200\n",
    "v = X.loc[X[(X['post_9387']>=70) & (X['post_9387']<200)].index.repeat(1)].reset_index(drop=True)\n",
    "X = pd.concat([X,v], ignore_index=True)\n",
    "#размножаем признаки post_9487 которых с 100 дня до 125\n",
    "v = X.loc[X[(X['day_of_year']>=100) & (X['day_of_year']<150)].index.repeat(1)].reset_index(drop=True)\n",
    "X = pd.concat([X,v], ignore_index=True)\n",
    "\n",
    "# #размножаем признаки post_9487 которых с 120 дня до 130\n",
    "# v = X.loc[X[(X['day_of_year']>=120) & (X['day_of_year']<130)].index.repeat(2)].reset_index(drop=True)\n",
    "# X = pd.concat([X,v], ignore_index=True)\n",
    "\n",
    "\n",
    "print(len(X[X['post_9387']>=200]))\n",
    "print(len(X[X['post_9387']<200]))"
   ]
  },
  {
   "cell_type": "code",
   "execution_count": 6,
   "id": "dbba730d",
   "metadata": {},
   "outputs": [],
   "source": [
    "#метод для тестирование предсказаний\n",
    "#start_date - начало даты предсказания уровня воды\n",
    "def tester(start_date):     \n",
    "    \n",
    "    #Конвертируем дату(строки) в дату (datetime64)  \n",
    "    date_start = pd.to_datetime(start_date, format=\"%Y-%m-%d\") #начало \n",
    "    date_end = date_start + datetime.timedelta(days=13)     # пребовляем 2 недели 13\n",
    "    plot_start = pd.to_datetime(datetime.date(date_start.year, 1, 1)) #Начало года (для графика)    \n",
    "    \n",
    "\n",
    "    #Данные для графика\n",
    "    #global test_general\n",
    "    #данные для графика\n",
    "    X_plot = test_general[(test_general['date']>= plot_start) & (test_general['date']<= date_start)]\n",
    "\n",
    "\n",
    "    temp = test_general[(test_general['date']>= date_start) & (test_general['date']<= date_end)]\n",
    "    Check_level = temp['post_9387'] # для проврки уровня реки (в автомате)\n",
    "\n",
    "    Check_snow_height = np.array(temp['snow_height']) # данные предсказания о снежном покрове (в автомат)\n",
    "    Check_degree_coverage = np.array(temp['degree_coverage']) # данные предсказанного снежного покртия (в автомат)\n",
    "\n",
    "    #подготовка данных для теста автомата\n",
    "    #test_general.set_index('date', inplace = True)\n",
    "    #test_general = test_general.drop('day_of_year', axis=1)\n",
    "\n",
    "    #arr = test_general[ date_start : date_start ]   \n",
    "    forecast_weather = np.array(temp['w_forecast_d1'])\n",
    "    \n",
    "    print(temp)\n",
    "    #отбираем температуру за прошлые дни (одной строкой так как она вся повторяется и в принцепе вся информация в одной записи на 2 недели назад есть)\n",
    "    pasday = np.array(temp[['pasday2','pasday3','pasday4','pasday5','pasday6','pasday7',\n",
    "                               'pasday8','pasday9','pasday10','pasday11','pasday12','pasday13','pasday14',\n",
    "                           ]].values[0])\n",
    "    #Уровень воды за прошлые дни\n",
    "    pas_level = np.array(temp[['pas_level1','pas_level2','pas_level3','pas_level4','pas_level5','pas_level6','pas_level7']].values[0])\n",
    "    #температуру одбираем только одну (так как нам какбуд-то не известна точная температура на 2 недели вперед )\n",
    "    tmean = temp.tmean.values[0]\n",
    "    \n",
    "   \n",
    "    future = {'Check_level':Check_level,\n",
    "            'Check_snow_height': Check_snow_height,\n",
    "            'Check_degree_coverage': Check_degree_coverage,\n",
    "            'forecast_weather': forecast_weather,\n",
    "            'pasday': pasday,\n",
    "            'pas_level': pas_level,\n",
    "            'tmean': tmean,\n",
    "            'date_start': date_start,\n",
    "            'X_plot': X_plot\n",
    "           }\n",
    "    \n",
    "\n",
    "    #Возвращаем все в словаре\n",
    "    return  future\n"
   ]
  },
  {
   "cell_type": "code",
   "execution_count": 7,
   "id": "703f57d3",
   "metadata": {
    "scrolled": true
   },
   "outputs": [],
   "source": [
    "# выделяем target из dataset\n",
    "y = X.pop('post_9387')"
   ]
  },
  {
   "cell_type": "code",
   "execution_count": 8,
   "id": "960f3664",
   "metadata": {},
   "outputs": [
    {
     "name": "stdout",
     "output_type": "stream",
     "text": [
      "First example: [[ 40.   10.  -25.2 -32.9 -22.8 -22.8 -41.2 -42.5 -37.8 -32.7 -14.1  -4.3\n",
      "  -12.5  -6.4  -9.9 -21.5 105.  106.  106.  106.  106.  106.  107.  344.\n",
      "  -39.9]]\n",
      "\n",
      "Normalized: [[ 0.92  1.01 -1.38 -1.83 -1.23 -1.23 -2.31 -2.4  -2.12 -1.81 -0.69 -0.1\n",
      "  -0.58 -0.22 -0.43 -1.12 -0.2  -0.19 -0.18 -0.17 -0.17 -0.16 -0.15  1.86\n",
      "  -2.25]]\n"
     ]
    }
   ],
   "source": [
    "\n",
    "X_train, X_test, Y_train, Y_test = train_test_split(X,y, train_size=0.7 , random_state=11)\n",
    "X_train_date = X_train.pop('date')\n",
    "X_test_date = X_test.pop('date')\n",
    "\n",
    "\n",
    "# Нормализация\n",
    "normalizer = tf.keras.layers.Normalization(axis=-1)\n",
    "normalizer.adapt(np.array(X_train))\n",
    "\n",
    "first = np.array(X_train[:1])\n",
    "\n",
    "with np.printoptions(precision=2, suppress=True):\n",
    "  print('First example:', first)\n",
    "  print()\n",
    "  print('Normalized:', normalizer(first).numpy())\n"
   ]
  },
  {
   "cell_type": "code",
   "execution_count": 9,
   "id": "774e7458",
   "metadata": {},
   "outputs": [],
   "source": [
    "from scipy.stats import randint\n",
    "from sklearn.metrics import mean_squared_error,explained_variance_score, mean_absolute_error,mean_absolute_percentage_error\n"
   ]
  },
  {
   "cell_type": "code",
   "execution_count": 10,
   "id": "5d6552ac",
   "metadata": {
    "scrolled": true
   },
   "outputs": [],
   "source": [
    "from tensorflow.keras.models import Sequential\n",
    "from tensorflow.keras.layers import Dense\n",
    "from tensorflow.keras.optimizers import SGD\n",
    "\n",
    "def build_and_compile_model(norm):\n",
    "  model = keras.Sequential([\n",
    "      norm,\n",
    "      layers.Dense(90,input_dim=26, activation='relu',bias_initializer='glorot_normal', kernel_initializer='glorot_normal'),\n",
    "      layers.Dense(80,input_dim=26, activation='relu',bias_initializer='glorot_normal', kernel_initializer='glorot_normal'),     \n",
    "      layers.Dense(1,activation='linear',bias_initializer='glorot_normal', kernel_initializer='glorot_normal')\n",
    "  ])\n",
    "\n",
    "  model.compile(loss='mean_absolute_error',\n",
    "                #optimizer=tf.keras.optimizers.Adam(0.001))\n",
    "                optimizer = SGD(learning_rate=0.01, momentum=0.9, nesterov=True))\n",
    "  return model"
   ]
  },
  {
   "cell_type": "code",
   "execution_count": 11,
   "id": "d5ea0ebb",
   "metadata": {},
   "outputs": [],
   "source": [
    "model = build_and_compile_model(normalizer)"
   ]
  },
  {
   "cell_type": "code",
   "execution_count": 12,
   "id": "9f6e8144",
   "metadata": {},
   "outputs": [
    {
     "name": "stdout",
     "output_type": "stream",
     "text": [
      "Model: \"sequential\"\n",
      "_________________________________________________________________\n",
      " Layer (type)                Output Shape              Param #   \n",
      "=================================================================\n",
      " normalization (Normalizatio  (None, 25)               51        \n",
      " n)                                                              \n",
      "                                                                 \n",
      " dense (Dense)               (None, 90)                2340      \n",
      "                                                                 \n",
      " dense_1 (Dense)             (None, 80)                7280      \n",
      "                                                                 \n",
      " dense_2 (Dense)             (None, 1)                 81        \n",
      "                                                                 \n",
      "=================================================================\n",
      "Total params: 9,752\n",
      "Trainable params: 9,701\n",
      "Non-trainable params: 51\n",
      "_________________________________________________________________\n"
     ]
    }
   ],
   "source": [
    "model.summary()"
   ]
  },
  {
   "cell_type": "code",
   "execution_count": 17,
   "id": "00fea526",
   "metadata": {},
   "outputs": [
    {
     "name": "stdout",
     "output_type": "stream",
     "text": [
      "112/112 [==============================] - 0s 2ms/step - loss: 4.6273\n"
     ]
    }
   ],
   "source": [
    "# %%time\n",
    "# history = model.fit(\n",
    "#     X_train,\n",
    "#     Y_train,\n",
    "#     validation_split=0.2,    \n",
    "#     verbose=0, epochs=700)\n",
    "\n",
    "\n",
    "#save model\n",
    "#model.save('../models/tf_dens3-80-90-1')\n",
    "#load model\n",
    "model = keras.models.load_model('../models/tf_dens3-80-90-1')\n",
    "model.evaluate(X_train, Y_train)"
   ]
  },
  {
   "cell_type": "code",
   "execution_count": 18,
   "id": "df0cb14d",
   "metadata": {},
   "outputs": [],
   "source": [
    "def plot_loss(history):\n",
    "  plt.plot(history.history['loss'], label='Ошибка обучения')\n",
    "  plt.plot(history.history['val_loss'], label='Ошибка валидации')\n",
    "  plt.ylim([0, 50])\n",
    "  plt.xlabel('Эпохи обучения')\n",
    "  plt.ylabel('Ошибка прогноза по [post_9387]')\n",
    "  plt.legend()\n",
    "  plt.grid(True)"
   ]
  },
  {
   "cell_type": "code",
   "execution_count": 19,
   "id": "1022e80d",
   "metadata": {
    "scrolled": true
   },
   "outputs": [
    {
     "ename": "AttributeError",
     "evalue": "'float' object has no attribute 'history'",
     "output_type": "error",
     "traceback": [
      "\u001b[1;31m---------------------------------------------------------------------------\u001b[0m",
      "\u001b[1;31mAttributeError\u001b[0m                            Traceback (most recent call last)",
      "Cell \u001b[1;32mIn[19], line 1\u001b[0m\n\u001b[1;32m----> 1\u001b[0m \u001b[43mplot_loss\u001b[49m\u001b[43m(\u001b[49m\u001b[43mhistory\u001b[49m\u001b[43m)\u001b[49m\n",
      "Cell \u001b[1;32mIn[18], line 2\u001b[0m, in \u001b[0;36mplot_loss\u001b[1;34m(history)\u001b[0m\n\u001b[0;32m      1\u001b[0m \u001b[38;5;28;01mdef\u001b[39;00m \u001b[38;5;21mplot_loss\u001b[39m(history):\n\u001b[1;32m----> 2\u001b[0m   plt\u001b[38;5;241m.\u001b[39mplot(\u001b[43mhistory\u001b[49m\u001b[38;5;241;43m.\u001b[39;49m\u001b[43mhistory\u001b[49m[\u001b[38;5;124m'\u001b[39m\u001b[38;5;124mloss\u001b[39m\u001b[38;5;124m'\u001b[39m], label\u001b[38;5;241m=\u001b[39m\u001b[38;5;124m'\u001b[39m\u001b[38;5;124mОшибка обучения\u001b[39m\u001b[38;5;124m'\u001b[39m)\n\u001b[0;32m      3\u001b[0m   plt\u001b[38;5;241m.\u001b[39mplot(history\u001b[38;5;241m.\u001b[39mhistory[\u001b[38;5;124m'\u001b[39m\u001b[38;5;124mval_loss\u001b[39m\u001b[38;5;124m'\u001b[39m], label\u001b[38;5;241m=\u001b[39m\u001b[38;5;124m'\u001b[39m\u001b[38;5;124mОшибка валидации\u001b[39m\u001b[38;5;124m'\u001b[39m)\n\u001b[0;32m      4\u001b[0m   plt\u001b[38;5;241m.\u001b[39mylim([\u001b[38;5;241m0\u001b[39m, \u001b[38;5;241m50\u001b[39m])\n",
      "\u001b[1;31mAttributeError\u001b[0m: 'float' object has no attribute 'history'"
     ]
    }
   ],
   "source": [
    "plot_loss(history)"
   ]
  },
  {
   "cell_type": "code",
   "execution_count": null,
   "id": "bfac40ef",
   "metadata": {},
   "outputs": [],
   "source": [
    "test_predictions = model.predict(X_test).flatten()\n",
    "\n",
    "a = plt.axes(aspect='equal')\n",
    "plt.scatter(X_test['day_of_year'], Y_test)\n",
    "plt.xlabel('Истинные значения [пост 9387]')\n",
    "plt.ylabel('Предсказанные значения [пост 9387]')\n",
    "lims = [0, 750]\n",
    "plt.ylim(0,700)\n",
    "plt.xlim(0,400)\n",
    "_ = plt.scatter(X_test['day_of_year'], test_predictions,color='red',alpha=0.2)\n",
    "\n"
   ]
  },
  {
   "cell_type": "code",
   "execution_count": 16,
   "id": "94d69d52",
   "metadata": {},
   "outputs": [
    {
     "ename": "NameError",
     "evalue": "name 'test_predictions' is not defined",
     "output_type": "error",
     "traceback": [
      "\u001b[1;31m---------------------------------------------------------------------------\u001b[0m",
      "\u001b[1;31mNameError\u001b[0m                                 Traceback (most recent call last)",
      "Cell \u001b[1;32mIn[16], line 1\u001b[0m\n\u001b[1;32m----> 1\u001b[0m error \u001b[38;5;241m=\u001b[39m \u001b[43mtest_predictions\u001b[49m \u001b[38;5;241m-\u001b[39m Y_test\n\u001b[0;32m      2\u001b[0m plt\u001b[38;5;241m.\u001b[39mhist(error, bins\u001b[38;5;241m=\u001b[39m\u001b[38;5;241m25\u001b[39m)\n\u001b[0;32m      3\u001b[0m plt\u001b[38;5;241m.\u001b[39mxlabel(\u001b[38;5;124m'\u001b[39m\u001b[38;5;124mОшибка прогноза [пост 9387]\u001b[39m\u001b[38;5;124m'\u001b[39m)\n",
      "\u001b[1;31mNameError\u001b[0m: name 'test_predictions' is not defined"
     ]
    }
   ],
   "source": [
    "error = test_predictions - Y_test\n",
    "plt.hist(error, bins=25)\n",
    "plt.xlabel('Ошибка прогноза [пост 9387]')\n",
    "_ = plt.ylabel('Количество ошибок')"
   ]
  },
  {
   "cell_type": "code",
   "execution_count": 20,
   "id": "9c92d80b",
   "metadata": {},
   "outputs": [],
   "source": [
    "def predict(data):\n",
    "    \n",
    "    \n",
    "    data = pd.DataFrame(data = data, columns = data.columns)   \n",
    "    \n",
    "    prdict = model.predict(data)\n",
    "    \n",
    "    return  prdict"
   ]
  },
  {
   "cell_type": "code",
   "execution_count": 21,
   "id": "d9e463cb",
   "metadata": {},
   "outputs": [
    {
     "ename": "NameError",
     "evalue": "name 'test_predictions' is not defined",
     "output_type": "error",
     "traceback": [
      "\u001b[1;31m---------------------------------------------------------------------------\u001b[0m",
      "\u001b[1;31mNameError\u001b[0m                                 Traceback (most recent call last)",
      "Cell \u001b[1;32mIn[21], line 1\u001b[0m\n\u001b[1;32m----> 1\u001b[0m \u001b[38;5;28mprint\u001b[39m(\u001b[38;5;124m\"\u001b[39m\u001b[38;5;124mThe absolute mean error :\u001b[39m\u001b[38;5;124m\"\u001b[39m,mean_absolute_error(Y_test, \u001b[43mtest_predictions\u001b[49m))\n\u001b[0;32m      2\u001b[0m \u001b[38;5;28mprint\u001b[39m(\u001b[38;5;124m\"\u001b[39m\u001b[38;5;124mThe squared mean error :\u001b[39m\u001b[38;5;124m\"\u001b[39m,mean_squared_error(Y_test, test_predictions))\n\u001b[0;32m      3\u001b[0m \u001b[38;5;28mprint\u001b[39m(\u001b[38;5;124m\"\u001b[39m\u001b[38;5;124mThe squared mean error :\u001b[39m\u001b[38;5;124m\"\u001b[39m,np\u001b[38;5;241m.\u001b[39msqrt(mean_squared_error(Y_test, test_predictions)))\n",
      "\u001b[1;31mNameError\u001b[0m: name 'test_predictions' is not defined"
     ]
    }
   ],
   "source": [
    "   \n",
    "print(\"The absolute mean error :\",mean_absolute_error(Y_test, test_predictions))\n",
    "print(\"The squared mean error :\",mean_squared_error(Y_test, test_predictions))\n",
    "print(\"The squared mean error :\",np.sqrt(mean_squared_error(Y_test, test_predictions)))\n",
    "\n",
    "# The absolute mean error : 7.675656084154473\n",
    "# The squared mean error : 241.59287085341356\n",
    "# The squared mean error : 15.543258051432254 600 epohes"
   ]
  },
  {
   "cell_type": "code",
   "execution_count": 22,
   "id": "80d35412",
   "metadata": {},
   "outputs": [
    {
     "ename": "NameError",
     "evalue": "name 'test_predictions' is not defined",
     "output_type": "error",
     "traceback": [
      "\u001b[1;31m---------------------------------------------------------------------------\u001b[0m",
      "\u001b[1;31mNameError\u001b[0m                                 Traceback (most recent call last)",
      "Cell \u001b[1;32mIn[22], line 1\u001b[0m\n\u001b[1;32m----> 1\u001b[0m \u001b[38;5;28mprint\u001b[39m(\u001b[38;5;124m\"\u001b[39m\u001b[38;5;124mThe Variance Score :\u001b[39m\u001b[38;5;124m\"\u001b[39m, explained_variance_score(Y_test, \u001b[43mtest_predictions\u001b[49m))\n",
      "\u001b[1;31mNameError\u001b[0m: name 'test_predictions' is not defined"
     ]
    }
   ],
   "source": [
    "print(\"The Variance Score :\", explained_variance_score(Y_test, test_predictions))\n",
    "#The variance shows how many percent that our model can explain,so our model can explain %58 procent accurately\n",
    "#The Variance Score : 0.9920466612400378"
   ]
  },
  {
   "cell_type": "code",
   "execution_count": null,
   "id": "e119c317",
   "metadata": {},
   "outputs": [],
   "source": [
    "\n",
    "    "
   ]
  },
  {
   "cell_type": "markdown",
   "id": "7c2aa3f5",
   "metadata": {},
   "source": [
    "### LinearRegression\n",
    "     MAE = 0.39877488514548237\n",
    "     MAPE = 1379356700572.9495\n",
    "     MSE = 2.487826409744653\n",
    "\n",
    "### DecisionTreeRegressor\n",
    "     MAE = 0.38437978560490044\n",
    "     MAPE = 1379356700572.9502\n",
    "     MSE = 2.4686084268438013\n",
    "     \n",
    "### Catboost\n",
    "      MAE = 0.8153775828433826\n",
    "      MAPE = 3729137297478.792\n",
    "      MSE = 1.8557184138282679"
   ]
  },
  {
   "cell_type": "code",
   "execution_count": 23,
   "id": "0f64ac2e",
   "metadata": {},
   "outputs": [],
   "source": [
    "#X_test['date'] = X_test_date\n",
    "#plt.figure(figsize=(30,20))\n",
    "#ax = sns.lineplot(x = X_test['date'], y=Y_test, color='blue')\n",
    "#ax = sns.lineplot(x = X_test['date'], y=predictions,color='red')\n",
    "#plt.show()\n",
    "\n"
   ]
  },
  {
   "cell_type": "code",
   "execution_count": 24,
   "id": "d2071b91",
   "metadata": {},
   "outputs": [],
   "source": [
    "#To Do создать окончательный автомат по предсказанию уровня реки!\n",
    "\n",
    "\n",
    "\n",
    "def level_forecast(date,tmean, pas_level1, pasday, w_forecast, forecast_degree_coverage,forecast_snow_height):\n",
    "    columns_name = ['snow_height','degree_coverage','tmean',\n",
    "                   'pasday2','pasday3','pasday4','pasday5','pasday6','pasday7',\n",
    "                    'pasday8','pasday9','pasday10','pasday11','pasday12','pasday13','pasday14',\n",
    "                   'pas_level1','pas_level2','pas_level3','pas_level4','pas_level5','pas_level6','pas_level7',\n",
    "                    'day_of_year','w_forecast_d1'\n",
    "                    ]\n",
    "    #Конвертируем дату(строки) в дату (datetime64)\n",
    "    #date = datetime.datetime.strptime(date, \"%Y-%m-%d\").date()\n",
    "    day_of_year = int(date.strftime(\"%j\"))\n",
    "    #data = np.insert(data, -1, day_of_year )  #временно закаментирую день гда в общем массиве\n",
    "    \n",
    "    \n",
    "   # =============================1 проход =============================== \n",
    "    #global pas_level\n",
    "  \n",
    "    \n",
    "    #разбиваем данные на группы\n",
    "    snow_height = forecast_snow_height[0] #1 высота снежного покрова\n",
    "    degree_coverage = forecast_degree_coverage[0] #2 покрытие  снега\n",
    "    \n",
    "    \n",
    "    pas_level = pas_level1 #data[0,17:24]#18-24 уровень воды за прошлые 7 днй   \n",
    "    w_forecast_d1 = w_forecast[0]# data[0,24] #25 прогноз погоды на 1 день\n",
    "    \n",
    "    #формируем массив с фичами\n",
    "    future = np.array([snow_height,degree_coverage,tmean])\n",
    "    future = np.append(future, pasday)\n",
    "    future = np.append(future,pas_level)\n",
    "    future = np.append(future, [day_of_year,w_forecast_d1])\n",
    "\n",
    "    #переводим данные в DataFrame\n",
    "    future = pd.DataFrame(data=[future], columns=columns_name)   \n",
    "    \n",
    "    \n",
    "\n",
    "    #предсказание   \n",
    "    predic_day = predict(future)#model.predict(future)  \n",
    "    global prd\n",
    "   # global day_number\n",
    "    prd = []\n",
    "    day_number = []\n",
    "    prd = np.append(prd, predic_day)\n",
    "    day_number = np.append(day_number,day_of_year)\n",
    "    \n",
    "       \n",
    "   #========================================================================\n",
    "\n",
    "    for i in range(13): \n",
    "        day_of_year += 1\n",
    "        #разбиваем данные на группы\n",
    "        snow_height = forecast_snow_height[i+1]#1 высота снежного покрова\n",
    "        \n",
    "        degree_coverage = forecast_degree_coverage[i+1] #2 покрытие  снега\n",
    "        \n",
    "        \n",
    "        pasday = np.roll(pasday,1)#сдвигаем массив вперед        \n",
    "        pasday[0] = tmean #заменяем первый элемент массива вчерашней темпреатурой\n",
    "       \n",
    "        \n",
    "        tmean = w_forecast[i] # текущая ср.температура \n",
    "       \n",
    "        pas_level = np.roll(pas_level,1)\n",
    "       \n",
    "        pas_level[0] = prd[i]\n",
    "       \n",
    "        \n",
    "        #w_forecast_d1 = data[0,24] #25 прогноз погоды на 1 день\n",
    "        w_forecast_d1 = w_forecast[i+1]\n",
    "\n",
    "        #формируем массив с фичами\n",
    "        future = np.array([snow_height,degree_coverage,tmean])\n",
    "        future = np.append(future, pasday)\n",
    "        future = np.append(future,pas_level)\n",
    "        future = np.append(future, [day_of_year,w_forecast_d1])\n",
    "\n",
    "        #переводим данные в DataFrame\n",
    "        future = pd.DataFrame(data=[future], columns=columns_name) \n",
    "        \n",
    "       \n",
    "        #предсказание   \n",
    "        predic_day = predict(future)#model.predict(future)\n",
    "        \n",
    "        prd = np.append(prd, predic_day)\n",
    "        day_number = np.append(day_number,day_of_year)  \n",
    "        #print(prd)\n",
    "        \n",
    "        #prd =  np.linspace (prd.min(), prd.max(), len(prd) )\n",
    "        #print(prd)\n",
    "    \n",
    "    return {'predict':prd, 'day_number':day_number}"
   ]
  },
  {
   "cell_type": "code",
   "execution_count": 25,
   "id": "001d6f17",
   "metadata": {},
   "outputs": [],
   "source": [
    "#метод для вывода графика с предсказанным уровнем\n",
    "def ploting (data,  predict_level_day, predict_data, test_data):\n",
    "    \n",
    "    #predict_data = np.linspace(predict_data.min(), predict_data.max(), len(predict_data)) \n",
    "    \n",
    "    sns.lineplot(data=data, x=\"day_of_year\", y=\"post_9387\")\n",
    "    sns.lineplot(x=predict_level_day, y=predict_data,color='Red')   \n",
    "    sns.lineplot(x=predict_level_day, y=test_data,color='green')\n",
    "    \n",
    "    plt.show()\n",
    "\n",
    "    #MSE \n",
    "def metrics_predict(pred, test, msg=''):\n",
    "    print(f\"{msg} The absolute mean error :\",mean_absolute_error(test, pred))\n",
    "    print(f\"{msg} The squared mean error :\",mean_squared_error(test, pred))\n",
    "    print(f\"{msg} The squared mean error :\",np.sqrt(mean_squared_error(test, pred)))\n",
    "    "
   ]
  },
  {
   "cell_type": "code",
   "execution_count": null,
   "id": "de34e53d",
   "metadata": {
    "scrolled": true
   },
   "outputs": [
    {
     "name": "stdout",
     "output_type": "stream",
     "text": [
      "           date  snow_height  degree_coverage  tmean  post_9387  pasday2  \\\n",
      "3748 2020-04-05           56               10   -1.9         61      2.1   \n",
      "3749 2020-04-06           54               10    1.1         62      2.5   \n",
      "3750 2020-04-07           52               10    2.5         62     -1.9   \n",
      "3751 2020-04-08           47               10    4.3         64      1.1   \n",
      "3752 2020-04-09           42               10    4.9         66      2.5   \n",
      "3753 2020-04-10           36               10    3.5         68      4.3   \n",
      "3754 2020-04-11           30               10    2.8         69      4.9   \n",
      "3755 2020-04-12           25               10    2.8         70      3.5   \n",
      "3756 2020-04-13           23               10    2.7         71      2.8   \n",
      "3757 2020-04-14           21               10    4.0         71      2.8   \n",
      "3758 2020-04-15           18               10    4.4         72      2.7   \n",
      "3759 2020-04-16           15               10    4.3         80      4.0   \n",
      "3760 2020-04-17           12               10    3.8        104      4.4   \n",
      "3761 2020-04-18           11               10   -1.0        134      4.3   \n",
      "\n",
      "      pasday3  pasday4  pasday5  pasday6  ...  pasday14  pas_level1  \\\n",
      "3748     -1.5     -0.7      1.5     -2.6  ...      -0.3          60   \n",
      "3749      2.1     -1.5     -0.7      1.5  ...       0.5          61   \n",
      "3750      2.5      2.1     -1.5     -0.7  ...     -13.0          62   \n",
      "3751     -1.9      2.5      2.1     -1.5  ...     -15.8          62   \n",
      "3752      1.1     -1.9      2.5      2.1  ...     -11.2          64   \n",
      "3753      2.5      1.1     -1.9      2.5  ...      -4.6          66   \n",
      "3754      4.3      2.5      1.1     -1.9  ...      -2.0          68   \n",
      "3755      4.9      4.3      2.5      1.1  ...      -3.0          69   \n",
      "3756      3.5      4.9      4.3      2.5  ...      -2.6          70   \n",
      "3757      2.8      3.5      4.9      4.3  ...       1.5          71   \n",
      "3758      2.8      2.8      3.5      4.9  ...      -0.7          71   \n",
      "3759      2.7      2.8      2.8      3.5  ...      -1.5          72   \n",
      "3760      4.0      2.7      2.8      2.8  ...       2.1          80   \n",
      "3761      4.4      4.0      2.7      2.8  ...       2.5         104   \n",
      "\n",
      "      pas_level2  pas_level3  pas_level4  pas_level5  pas_level6  pas_level7  \\\n",
      "3748          59          59          58          58          58          58   \n",
      "3749          60          59          59          58          58          58   \n",
      "3750          61          60          59          59          58          58   \n",
      "3751          62          61          60          59          59          58   \n",
      "3752          62          62          61          60          59          59   \n",
      "3753          64          62          62          61          60          59   \n",
      "3754          66          64          62          62          61          60   \n",
      "3755          68          66          64          62          62          61   \n",
      "3756          69          68          66          64          62          62   \n",
      "3757          70          69          68          66          64          62   \n",
      "3758          71          70          69          68          66          64   \n",
      "3759          71          71          70          69          68          66   \n",
      "3760          72          71          71          70          69          68   \n",
      "3761          80          72          71          71          70          69   \n",
      "\n",
      "      day_of_year  w_forecast_d1  \n",
      "3748           96            0.1  \n",
      "3749           97           -0.5  \n",
      "3750           98            3.3  \n",
      "3751           99            3.9  \n",
      "3752          100            5.5  \n",
      "3753          101            1.8  \n",
      "3754          102            2.8  \n",
      "3755          103            3.7  \n",
      "3756          104            5.0  \n",
      "3757          105            4.4  \n",
      "3758          106            5.3  \n",
      "3759          107            4.8  \n",
      "3760          108           -1.0  \n",
      "3761          109           -5.6  \n",
      "\n",
      "[14 rows x 27 columns]\n",
      "1/1 [==============================] - 0s 126ms/step\n",
      "1/1 [==============================] - 0s 34ms/step\n",
      "1/1 [==============================] - 0s 33ms/step\n",
      "1/1 [==============================] - 0s 34ms/step\n",
      "1/1 [==============================] - 0s 33ms/step\n",
      "1/1 [==============================] - 0s 34ms/step\n",
      "1/1 [==============================] - 0s 34ms/step\n",
      "1/1 [==============================] - 0s 37ms/step\n",
      "1/1 [==============================] - 0s 42ms/step\n",
      "1/1 [==============================] - 0s 48ms/step\n",
      "1/1 [==============================] - 0s 35ms/step\n",
      "1/1 [==============================] - 0s 34ms/step\n",
      "1/1 [==============================] - 0s 34ms/step\n",
      "1/1 [==============================] - 0s 33ms/step\n"
     ]
    },
    {
     "data": {
      "image/png": "[encoded data removed]",
      "text/plain": [
       "<Figure size 640x480 with 1 Axes>"
      ]
     },
     "metadata": {},
     "output_type": "display_data"
    },
    {
     "name": "stdout",
     "output_type": "stream",
     "text": [
      " The absolute mean error : 7.729866027832031\n",
      " The squared mean error : 198.13291228824528\n",
      " The squared mean error : 14.075969319668372\n",
      "           date  snow_height  degree_coverage  tmean  post_9387  pasday2  \\\n",
      "3749 2020-04-06           54               10    1.1         62      2.5   \n",
      "3750 2020-04-07           52               10    2.5         62     -1.9   \n",
      "3751 2020-04-08           47               10    4.3         64      1.1   \n",
      "3752 2020-04-09           42               10    4.9         66      2.5   \n",
      "3753 2020-04-10           36               10    3.5         68      4.3   \n",
      "3754 2020-04-11           30               10    2.8         69      4.9   \n",
      "3755 2020-04-12           25               10    2.8         70      3.5   \n",
      "3756 2020-04-13           23               10    2.7         71      2.8   \n",
      "3757 2020-04-14           21               10    4.0         71      2.8   \n",
      "3758 2020-04-15           18               10    4.4         72      2.7   \n",
      "3759 2020-04-16           15               10    4.3         80      4.0   \n",
      "3760 2020-04-17           12               10    3.8        104      4.4   \n",
      "3761 2020-04-18           11               10   -1.0        134      4.3   \n",
      "3762 2020-04-19           10                8   -3.6        156      3.8   \n",
      "\n",
      "      pasday3  pasday4  pasday5  pasday6  ...  pasday14  pas_level1  \\\n",
      "3749      2.1     -1.5     -0.7      1.5  ...       0.5          61   \n",
      "3750      2.5      2.1     -1.5     -0.7  ...     -13.0          62   \n",
      "3751     -1.9      2.5      2.1     -1.5  ...     -15.8          62   \n",
      "3752      1.1     -1.9      2.5      2.1  ...     -11.2          64   \n",
      "3753      2.5      1.1     -1.9      2.5  ...      -4.6          66   \n",
      "3754      4.3      2.5      1.1     -1.9  ...      -2.0          68   \n",
      "3755      4.9      4.3      2.5      1.1  ...      -3.0          69   \n",
      "3756      3.5      4.9      4.3      2.5  ...      -2.6          70   \n",
      "3757      2.8      3.5      4.9      4.3  ...       1.5          71   \n",
      "3758      2.8      2.8      3.5      4.9  ...      -0.7          71   \n",
      "3759      2.7      2.8      2.8      3.5  ...      -1.5          72   \n",
      "3760      4.0      2.7      2.8      2.8  ...       2.1          80   \n",
      "3761      4.4      4.0      2.7      2.8  ...       2.5         104   \n",
      "3762      4.3      4.4      4.0      2.7  ...      -1.9         134   \n",
      "\n",
      "      pas_level2  pas_level3  pas_level4  pas_level5  pas_level6  pas_level7  \\\n",
      "3749          60          59          59          58          58          58   \n",
      "3750          61          60          59          59          58          58   \n",
      "3751          62          61          60          59          59          58   \n",
      "3752          62          62          61          60          59          59   \n",
      "3753          64          62          62          61          60          59   \n",
      "3754          66          64          62          62          61          60   \n",
      "3755          68          66          64          62          62          61   \n",
      "3756          69          68          66          64          62          62   \n",
      "3757          70          69          68          66          64          62   \n",
      "3758          71          70          69          68          66          64   \n",
      "3759          71          71          70          69          68          66   \n",
      "3760          72          71          71          70          69          68   \n",
      "3761          80          72          71          71          70          69   \n",
      "3762         104          80          72          71          71          70   \n",
      "\n",
      "      day_of_year  w_forecast_d1  \n",
      "3749           97           -0.5  \n",
      "3750           98            3.3  \n",
      "3751           99            3.9  \n",
      "3752          100            5.5  \n",
      "3753          101            1.8  \n",
      "3754          102            2.8  \n",
      "3755          103            3.7  \n",
      "3756          104            5.0  \n",
      "3757          105            4.4  \n",
      "3758          106            5.3  \n",
      "3759          107            4.8  \n",
      "3760          108           -1.0  \n",
      "3761          109           -5.6  \n",
      "3762          110           -1.6  \n",
      "\n",
      "[14 rows x 27 columns]\n",
      "1/1 [==============================] - 0s 25ms/step\n",
      "1/1 [==============================] - 0s 32ms/step\n",
      "1/1 [==============================] - 0s 34ms/step\n",
      "1/1 [==============================] - 0s 34ms/step\n",
      "1/1 [==============================] - 0s 33ms/step\n",
      "1/1 [==============================] - 0s 33ms/step\n",
      "1/1 [==============================] - 0s 35ms/step\n",
      "1/1 [==============================] - 0s 34ms/step\n",
      "1/1 [==============================] - 0s 34ms/step\n",
      "1/1 [==============================] - 0s 34ms/step\n"
     ]
    }
   ],
   "source": [
    "test1 = ['2018-04-01','2018-04-02','2018-04-03','2018-04-04','2018-04-05','2018-04-06',\n",
    "              '2018-04-07','2018-04-08','2018-04-09','2018-04-10','2018-04-11','2018-04-12']\n",
    "\n",
    "test2 = ['2020-04-05','2020-04-06',\n",
    "             '2020-04-07', '2020-04-08','2020-04-09','2020-04-10', '2020-04-11','2020-04-12',\n",
    "          '2020-04-13','2020-04-14', '2020-04-15','2020-04-16']\n",
    "\n",
    "test3 = ['2020-05-05','2020-05-06',\n",
    "             '2020-05-07', '2020-05-08','2020-05-09','2020-05-10', '2020-05-11','2020-05-12',\n",
    "          '2020-05-13','2020-05-14', '2020-05-15','2020-05-16']\n",
    "\n",
    "test4 = ['2018-05-05','2018-05-06',\n",
    "             '2018-05-07', '2018-05-08','2018-05-09','2018-05-10', '2018-05-11','2018-05-12',\n",
    "          '2018-05-13','2018-05-14', '2018-05-15','2018-05-16']\n",
    "\n",
    "pred_arr = np.array([])\n",
    "check_level_arr = np.array([])\n",
    "for d in test2:\n",
    "     \n",
    "    data = tester(d) \n",
    "    predict_level = level_forecast(data['date_start'],data['tmean'], data['pas_level'],data['pasday'], \n",
    "                            data['forecast_weather'], data['Check_degree_coverage'], data['Check_snow_height'])\n",
    "    \n",
    "    ploting(data['X_plot'], predict_level['day_number'], predict_level['predict'], data['Check_level'])\n",
    "    \n",
    "    pred_arr =  np.append( pred_arr, predict_level['predict'])\n",
    "    check_level_arr = np.append(check_level_arr, data['Check_level'])\n",
    "    \n",
    "    metrics_predict(predict_level['predict'], data['Check_level'])\n",
    "\n",
    "\n",
    "metrics_predict( check_level_arr.flatten(), pred_arr.flatten(), 'FINAL',)"
   ]
  },
  {
   "cell_type": "code",
   "execution_count": 94,
   "id": "4e8ce435",
   "metadata": {
    "scrolled": true
   },
   "outputs": [
    {
     "name": "stdout",
     "output_type": "stream",
     "text": [
      "FINAL The absolute mean error : 125.42841176759629\n",
      "FINAL The squared mean error : 20419.205746723932\n",
      "FINAL The squared mean error : 142.89578631549614\n"
     ]
    }
   ],
   "source": [
    "# FINAL The absolute mean error : 12.017057748067947\n",
    "# FINAL The squared mean error : 378.9977450455011\n",
    "# FINAL The squared mean error : 19.46786441922948\n",
    "metrics_predict( check_level_arr.flatten(), pred_arr.flatten(), 'FINAL',)"
   ]
  },
  {
   "cell_type": "code",
   "execution_count": null,
   "id": "e53fc92c",
   "metadata": {
    "scrolled": false
   },
   "outputs": [],
   "source": [
    "#metrics(data['Check_level'], predict_level['predict'])"
   ]
  }
 ],
 "metadata": {
  "kernelspec": {
   "display_name": "Python 3 (ipykernel)",
   "language": "python",
   "name": "python3"
  },
  "language_info": {
   "codemirror_mode": {
    "name": "ipython",
    "version": 3
   },
   "file_extension": ".py",
   "mimetype": "text/x-python",
   "name": "python",
   "nbconvert_exporter": "python",
   "pygments_lexer": "ipython3",
   "version": "3.10.12"
  }
 },
 "nbformat": 4,
 "nbformat_minor": 5
}
